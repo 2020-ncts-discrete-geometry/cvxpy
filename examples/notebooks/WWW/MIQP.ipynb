{
 "cells": [
  {
   "cell_type": "markdown",
   "metadata": {},
   "source": [
    "# Mixed-integer quadratic programming\n",
    "A mixed-integer quadratic program (MIQP) is an optimization problem of the form\n",
    "$$  \n",
    "    \\begin{array}{ll}\n",
    "    \\mbox{minimize}   & x^T Q x + q^T x + r \\\\\n",
    "    \\mbox{subject to} & x \\in \\mathcal{C}\\\\\n",
    "    & x \\in \\mathbf{Z}^n\n",
    "    \\end{array}\n",
    "$$\n",
    "where $x \\in \\mathbf{Z}^n$ is the optimization variable,\n",
    "$Q \\in \\mathbf{S}_+^n$, $q \\in \\mathbf{R}^n$, and $r \\in \\mathbf{R}$ are problem data,\n",
    "$\\mathcal C$ is some convex set,\n",
    "and $\\mathcal Z$ is the set of integers.\n",
    "\n",
    "An example of a MIQP is mixed-integer least squares.\n",
    "$$  \n",
    "    \\begin{array}{ll}\n",
    "    \\mbox{minimize}   & \\|Ax-b\\|_2^2 \\\\\n",
    "    \\mbox{subject to} & x \\in \\mathbf{Z}^n,\n",
    "    \\end{array}\n",
    "$$\n",
    "where $x \\in \\mathbf{Z}^n$ is the optimization variable,\n",
    "and $A \\in \\mathbf{R}^{m \\times n}$ and $b \\in \\mathbf{R}^{m}$ are the problem data.\n",
    "The solution $x^{\\star}$ of this problem will be the vector in $\\mathbf Z^n$ that minimizes\n",
    "$\\|Ax-b\\|_2^2$."
   ]
  },
  {
   "cell_type": "code",
   "execution_count": null,
   "metadata": {
    "collapsed": true
   },
   "outputs": [],
   "source": [
    "# Import packages\n",
    "import cvxpy as cp\n",
    "import numpy as np"
   ]
  },
  {
   "cell_type": "code",
   "execution_count": null,
   "metadata": {
    "collapsed": true
   },
   "outputs": [],
   "source": [
    "# Generate a random problem\n",
    "m, n= 30, 20\n",
    "\n",
    "A = np.random.rand(m,n)\n",
    "b = np.random.randn(m)"
   ]
  },
  {
   "cell_type": "code",
   "execution_count": null,
   "metadata": {
    "collapsed": false
   },
   "outputs": [],
   "source": [
    "# Define and solve the CVXPY problem.\n",
    "x = cp.Variable(n, integer=True)\n",
    "\n",
    "objective = cp.Minimize(cp.sum_squares(A@x-b))\n",
    "constraints = []\n",
    "\n",
    "prob = cp.Problem(objective, constraints)\n",
    "\n",
    "prob.solve()"
   ]
  },
  {
   "cell_type": "code",
   "execution_count": null,
   "metadata": {
    "collapsed": false
   },
   "outputs": [],
   "source": [
    "# Print result.\n",
    "print(\"The optimal value is\", prob.value)\n",
    "print(\"A solution x is\")\n",
    "print(x.value)"
   ]
  }
 ],
 "metadata": {
  "kernelspec": {
   "display_name": "research",
   "language": "python",
   "name": "research"
  },
  "language_info": {
   "codemirror_mode": {
    "name": "ipython",
    "version": 3
   },
   "file_extension": ".py",
   "mimetype": "text/x-python",
   "name": "python",
   "nbconvert_exporter": "python",
   "pygments_lexer": "ipython3",
   "version": "3.6.8"
  }
 },
 "nbformat": 4,
 "nbformat_minor": 2
}
